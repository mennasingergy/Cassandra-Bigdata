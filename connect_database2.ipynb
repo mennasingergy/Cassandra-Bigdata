{
 "cells": [
  {
   "cell_type": "code",
   "execution_count": 186,
   "metadata": {},
   "outputs": [],
   "source": [
    "from collections import Counter\n",
    "from cassandra.cluster import Cluster\n",
    "from cassandra.auth import PlainTextAuthProvider\n",
    "import seaborn as sns\n",
    "import matplotlib.pyplot as plt\n"
   ]
  },
  {
   "cell_type": "code",
   "execution_count": 187,
   "metadata": {},
   "outputs": [],
   "source": [
    "cloud_config= {\n",
    "  'secure_connect_bundle': 'path_to_your_secure_connect_mydb.zip/secure-connect-mydb.zip'\n",
    "}\n",
    "auth_provider = PlainTextAuthProvider('<<clientId>>', '<<clientSecret>>')\n",
    "cluster = Cluster(cloud=cloud_config, auth_provider=auth_provider)\n",
    "session = cluster.connect(\"<<namespace>>\")\n"
   ]
  },
  {
   "cell_type": "code",
   "execution_count": 188,
   "metadata": {},
   "outputs": [],
   "source": [
    "import pandas as pd\n",
    "from datetime import datetime\n",
    "df = pd.read_csv('your_csv_file.csv',nrows=15500,parse_dates=['pickup_datetime','dropoff_datetime'],infer_datetime_format=True, encoding='ISO 8859-1') \n",
    "df2=pd.read_csv('your_csv_file_2.csv',nrows=15500,encoding='ISO 8859-1') "
   ]
  },
  {
   "cell_type": "code",
   "execution_count": 189,
   "metadata": {},
   "outputs": [],
   "source": [
    "df=df.drop(columns=['store_and_fwd_flag'])\n",
    "df=df.drop(columns=['rate_code'])\n",
    "df=df.drop(columns=['total_amount'])"
   ]
  },
  {
   "cell_type": "code",
   "execution_count": 190,
   "metadata": {},
   "outputs": [],
   "source": [
    "df = df.dropna(subset=['fare_amount', 'extra','mta_tax','tip_amount','tolls_amount','imp_surcharge','passenger_count','payment_type','pickup_location_id'])\n",
    "df['total']=df['fare_amount']+df['extra']+df['mta_tax']+df['tip_amount']+df['tolls_amount']+df['imp_surcharge']"
   ]
  },
  {
   "cell_type": "code",
   "execution_count": 191,
   "metadata": {},
   "outputs": [],
   "source": [
    "df['trip_duration'] = (df['dropoff_datetime'] - df['pickup_datetime']).dt.total_seconds()\n",
    "#lamda works  as  function that loops around the rows and checks the hour and filters accordingly\n",
    "df['trip_time'] = df['pickup_datetime'].apply(lambda x: 'Night' if x.hour < 6 else ('Morning' if x.hour < 12 else ('Afternoon' if x.hour < 18 else 'Evening')))"
   ]
  },
  {
   "cell_type": "code",
   "execution_count": 192,
   "metadata": {},
   "outputs": [],
   "source": [
    "# session.execute(\"\"\"\n",
    "#     create table if not exists taxi.taxidata (\n",
    "#         vendor_id text,\n",
    "#         pickup_datetime timestamp,\n",
    "#         dropoff_datetime timestamp,\n",
    "#         passenger_count int,\n",
    "#         trip_distance float,\n",
    "#         payment_type int,\n",
    "#         fare_amount float,\n",
    "#         extra float,\n",
    "#         mta_tax float,\n",
    "#         tip_amount float,\n",
    "#         tolls_amount float,\n",
    "#         imp_surcharge float,\n",
    "#         pickup_location_id text,\n",
    "#         dropoff_location_id text,\n",
    "#         trip_duration float,\n",
    "#         total float,\n",
    "#         zone_id int,\n",
    "#         trip_time text,\n",
    "#         Primary Key (passenger_count,pickup_location_id)\n",
    "#     );\n",
    "# \"\"\")"
   ]
  },
  {
   "cell_type": "code",
   "execution_count": 193,
   "metadata": {},
   "outputs": [],
   "source": [
    "# for x in range(0, 10000):\n",
    "#     session.execute(\"\"\"\n",
    "#         insert into taxi.taxidata (\n",
    "#             vendor_id,\n",
    "#             pickup_datetime,\n",
    "#             dropoff_datetime,\n",
    "#             passenger_count,\n",
    "#             trip_distance,\n",
    "#             payment_type,\n",
    "#             fare_amount,\n",
    "#             extra,\n",
    "#             mta_tax,\n",
    "#             tip_amount,\n",
    "#             tolls_amount,\n",
    "#             imp_surcharge,\n",
    "#             pickup_location_id,\n",
    "#             dropoff_location_id,\n",
    "#             trip_duration,\n",
    "#             total,\n",
    "#             trip_time\n",
    "#         ) values (\n",
    "#             '%s',\n",
    "#             '%s',\n",
    "#             '%s',\n",
    "#             %d,\n",
    "#             %f,\n",
    "#             %d,\n",
    "#             %f,\n",
    "#             %f,\n",
    "#             %f,\n",
    "#             %f,\n",
    "#             %f,\n",
    "#             %f,\n",
    "#             '%s',\n",
    "#             '%s',\n",
    "#             %f,\n",
    "#             %f,\n",
    "#             '%s'\n",
    "#         );\n",
    "#     \"\"\" % (\n",
    "#         df.loc[x].vendor_id,\n",
    "#         df.loc[x].pickup_datetime,\n",
    "#         df.loc[x].dropoff_datetime,\n",
    "#         int(df.loc[x].passenger_count),\n",
    "#         float(df.loc[x].trip_distance),\n",
    "#         int(df.loc[x].payment_type),\n",
    "#         float(df.loc[x].fare_amount),\n",
    "#         float(df.loc[x].extra),\n",
    "#         float(df.loc[x].mta_tax),\n",
    "#         float(df.loc[x].tip_amount),\n",
    "#         float(df.loc[x].tolls_amount),\n",
    "#         float(df.loc[x].imp_surcharge),\n",
    "#         df.loc[x].pickup_location_id,\n",
    "#         df.loc[x].dropoff_location_id,\n",
    "#         float(df.loc[x].trip_duration),\n",
    "#         float(df.loc[x].total),\n",
    "#         str(df.loc[x].trip_time)\n",
    "#     ))\n",
    "\n"
   ]
  },
  {
   "cell_type": "code",
   "execution_count": 194,
   "metadata": {},
   "outputs": [],
   "source": [
    " \n",
    "# session.execute(\"drop table if exists taxi.taxidata\")\n"
   ]
  },
  {
   "attachments": {},
   "cell_type": "markdown",
   "metadata": {},
   "source": [
    "# to get the  most common payment type used per time of day\n"
   ]
  },
  {
   "cell_type": "code",
   "execution_count": 195,
   "metadata": {},
   "outputs": [],
   "source": [
    "\n",
    "\n",
    "morning_payment=session.execute(\"Select payment_type from taxi.taxidata where trip_time='Morning' ALLOW FILTERING\")\n",
    "\n",
    "afternoon_payment=session.execute(\"Select payment_type from taxi.taxidata where trip_time='Afternoon' ALLOW FILTERING\")\n",
    "\n",
    "evening_payment=session.execute(\"Select payment_type from taxi.taxidata where trip_time='Evening' ALLOW FILTERING\")\n",
    "\n",
    "night_payment=session.execute(\"Select payment_type from taxi.taxidata where trip_time='Night' ALLOW FILTERING\")\n",
    "\n"
   ]
  },
  {
   "cell_type": "code",
   "execution_count": 196,
   "metadata": {},
   "outputs": [
    {
     "name": "stdout",
     "output_type": "stream",
     "text": [
      "At morning (1, 87)\n",
      "At afternoon (1, 94)\n",
      "At evening (1, 102)\n",
      "At night (1, 35)\n"
     ]
    }
   ],
   "source": [
    "morning_count = Counter([row.payment_type for row in morning_payment])\n",
    "afternoon_count = Counter([row.payment_type for row in afternoon_payment])\n",
    "evening_count = Counter([row.payment_type for row in evening_payment])\n",
    "night_count = Counter([row.payment_type for row in night_payment])\n",
    "\n",
    "print(\"At morning\", morning_count.most_common(1)[0])\n",
    "print(\"At afternoon\", afternoon_count.most_common(1)[0])\n",
    "print(\"At evening\", evening_count.most_common(1)[0])\n",
    "print(\"At night\", night_count.most_common(1)[0])"
   ]
  },
  {
   "attachments": {},
   "cell_type": "markdown",
   "metadata": {},
   "source": [
    "# to get the avg tip amount per passenger count\n"
   ]
  },
  {
   "cell_type": "code",
   "execution_count": 197,
   "metadata": {},
   "outputs": [
    {
     "name": "stdout",
     "output_type": "stream",
     "text": [
      "passenger_count 1 Row(system_avg_tip_amount=2.0587692260742188)\n",
      "passenger_count 2 Row(system_avg_tip_amount=2.0587692260742188)\n"
     ]
    },
    {
     "name": "stderr",
     "output_type": "stream",
     "text": [
      "/var/folders/fj/l_r4z3yn7sx4k3ppwd_khgwr0000gn/T/ipykernel_42770/2477566128.py:3: DeprecationWarning: ResultSet indexing support will be removed in 4.0. Consider using ResultSet.one() to get a single row.\n",
      "  print(\"passenger_count\",i ,avg[0])\n"
     ]
    },
    {
     "name": "stdout",
     "output_type": "stream",
     "text": [
      "passenger_count 3 Row(system_avg_tip_amount=2.0587692260742188)\n",
      "passenger_count 4 Row(system_avg_tip_amount=2.0587692260742188)\n",
      "passenger_count 5 Row(system_avg_tip_amount=2.0587692260742188)\n",
      "passenger_count 6 Row(system_avg_tip_amount=2.0587692260742188)\n"
     ]
    }
   ],
   "source": [
    "for i in range(1,7):\n",
    " avg=session.execute('select avg(tip_amount) from taxi.taxidata group by passenger_count')\n",
    " print(\"passenger_count\",i ,avg[0])"
   ]
  },
  {
   "cell_type": "code",
   "execution_count": 198,
   "metadata": {},
   "outputs": [
    {
     "name": "stdout",
     "output_type": "stream",
     "text": [
      "passenger_count 1 Row(average=1.613025188446045)\n",
      "passenger_count 2 Row(average=1.5259301662445068)\n"
     ]
    },
    {
     "name": "stderr",
     "output_type": "stream",
     "text": [
      "/var/folders/fj/l_r4z3yn7sx4k3ppwd_khgwr0000gn/T/ipykernel_42770/3984167248.py:6: DeprecationWarning: ResultSet indexing support will be removed in 4.0. Consider using ResultSet.one() to get a single row.\n",
      "  print(\"passenger_count\",i ,avgs[0])\n"
     ]
    },
    {
     "name": "stdout",
     "output_type": "stream",
     "text": [
      "passenger_count 3 Row(average=1.7795082330703735)\n",
      "passenger_count 4 Row(average=3.4666666984558105)\n",
      "passenger_count 5 Row(average=2.0587692260742188)\n",
      "passenger_count 6 Row(average=1.9810526371002197)\n"
     ]
    }
   ],
   "source": [
    "# for i in range(1,7):\n",
    "#    avg=session.execute('select avg(tip_amount) from taxi.taxidata group by passenger_count ')\n",
    "#    print(\"passenger_count\",i ,avg[0])\n",
    "for i in range(1,7):\n",
    "    avgs=session.execute(\"SELECT AVG(tip_amount) as average FROM taxi.taxidata WHERE passenger_count= %s  ALLOW FILTERING\" % i)\n",
    "    print(\"passenger_count\",i ,avgs[0])"
   ]
  },
  {
   "attachments": {},
   "cell_type": "markdown",
   "metadata": {},
   "source": [
    "# the best 5 locations for drivers to pick up passengers from (best == frequent)\n"
   ]
  },
  {
   "cell_type": "code",
   "execution_count": 199,
   "metadata": {},
   "outputs": [
    {
     "name": "stdout",
     "output_type": "stream",
     "text": [
      "[('100', 7), ('107', 7), ('113', 7), ('114', 7), ('13', 7)]\n",
      "176          Battery Park City\n",
      "191           Garment District\n",
      "195                   Gramercy\n",
      "196    Greenwich Village North\n",
      "197    Greenwich Village South\n",
      "Name: zone_name, dtype: object\n"
     ]
    }
   ],
   "source": [
    "x=session.execute(\"SELECT pickup_location_id FROM taxi.taxidata\")\n",
    "pickup_locations = [row[0] for row in x]\n",
    "top_locations = Counter(pickup_locations).most_common(5)\n",
    "print(top_locations)\n",
    "zones=df2.query(\"zone_id==100 | zone_id==107 | zone_id==113 | zone_id==114 | zone_id==13\")[\"zone_name\"]\n",
    "print(zones)\n"
   ]
  },
  {
   "cell_type": "code",
   "execution_count": 200,
   "metadata": {},
   "outputs": [
    {
     "ename": "InvalidRequest",
     "evalue": "Error from server: code=2200 [Invalid query] message=\"Undefined column name lcount\"",
     "output_type": "error",
     "traceback": [
      "\u001b[0;31m---------------------------------------------------------------------------\u001b[0m",
      "\u001b[0;31mInvalidRequest\u001b[0m                            Traceback (most recent call last)",
      "Cell \u001b[0;32mIn[200], line 3\u001b[0m\n\u001b[1;32m      1\u001b[0m \u001b[39m#-------NOT WORKING-------\u001b[39;00m\n\u001b[0;32m----> 3\u001b[0m session\u001b[39m.\u001b[39;49mexecute(\u001b[39m\"\u001b[39;49m\u001b[39mSELECT pickup_location_id, count(*) as lcount FROM taxi.taxidata ORDER BY lcount DESC LIMIT 5  ALLOW FILTERING ;\u001b[39;49m\u001b[39m\"\u001b[39;49m)\n",
      "File \u001b[0;32m/opt/homebrew/lib/python3.11/site-packages/cassandra/cluster.py:2618\u001b[0m, in \u001b[0;36mcassandra.cluster.Session.execute\u001b[0;34m()\u001b[0m\n",
      "File \u001b[0;32m/opt/homebrew/lib/python3.11/site-packages/cassandra/cluster.py:4894\u001b[0m, in \u001b[0;36mcassandra.cluster.ResponseFuture.result\u001b[0;34m()\u001b[0m\n",
      "\u001b[0;31mInvalidRequest\u001b[0m: Error from server: code=2200 [Invalid query] message=\"Undefined column name lcount\""
     ]
    }
   ],
   "source": [
    "#-------NOT WORKING-------\n",
    "\n",
    "session.execute(\"SELECT pickup_location_id, count(*) as lcount FROM taxi.taxidata ORDER BY lcount DESC LIMIT 5  ALLOW FILTERING ;\")"
   ]
  },
  {
   "attachments": {},
   "cell_type": "markdown",
   "metadata": {},
   "source": [
    "# BONUS"
   ]
  },
  {
   "cell_type": "code",
   "execution_count": 206,
   "metadata": {},
   "outputs": [
    {
     "name": "stdout",
     "output_type": "stream",
     "text": [
      "0.0 84.38\n",
      "-1.56 80.08\n"
     ]
    },
    {
     "data": {
      "image/png": "[encoded data removed]",
      "text/plain": [
       "<Figure size 500x500 with 1 Axes>"
      ]
     },
     "metadata": {},
     "output_type": "display_data"
    }
   ],
   "source": [
    "print(min(df[\"trip_distance\"]),max(df[\"trip_distance\"]))\n",
    "print(min(df[\"tip_amount\"]),max(df[\"tip_amount\"]))\n",
    "\n",
    "sns.lmplot( x=\"trip_distance\", y=\"tip_amount\", data=df, fit_reg=False)\n",
    " \n",
    "# control x and y limits\n",
    "plt.ylim(-2, 100)\n",
    "plt.xlim(0, 90)\n",
    " \n",
    "plt.show()"
   ]
  },
  {
   "attachments": {},
   "cell_type": "markdown",
   "metadata": {},
   "source": [
    "to better understand the correlation between trip_distance and tip_amount,we plotted a scatter plot\n",
    "as we can see there is a positive correlation between both variables which means the longer the trip, the more tip is paid"
   ]
  }
 ],
 "metadata": {
  "kernelspec": {
   "display_name": "Python 3",
   "language": "python",
   "name": "python3"
  },
  "language_info": {
   "codemirror_mode": {
    "name": "ipython",
    "version": 3
   },
   "file_extension": ".py",
   "mimetype": "text/x-python",
   "name": "python",
   "nbconvert_exporter": "python",
   "pygments_lexer": "ipython3",
   "version": "3.11.2"
  },
  "orig_nbformat": 4
 },
 "nbformat": 4,
 "nbformat_minor": 2
}
